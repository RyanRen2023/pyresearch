








import pandas as pd

# Load the CSV file from the URL
url = 'https://gist.githubusercontent.com/mattkram/9684863843254402942dfede27af2cb7/raw/2590dd8185b833aacf247c0595edbb07a025a6d7/Smithsonian_VOTW_Holocene_Volcanoes.csv'
data = pd.read_csv(url)

# Show the first 10 rows
print(data.head(10))












